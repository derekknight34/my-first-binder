{
  "nbformat": 4,
  "nbformat_minor": 0,
  "metadata": {
    "colab": {
      "provenance": []
    },
    "kernelspec": {
      "name": "python3",
      "display_name": "Python 3"
    },
    "language_info": {
      "name": "python"
    }
  },
  "cells": [
    {
      "cell_type": "markdown",
      "source": [
        "Test File"
      ],
      "metadata": {
        "id": "fpiPaDR6_5pe"
      }
    },
    {
      "cell_type": "code",
      "execution_count": 3,
      "metadata": {
        "id": "7FGPWObk_2M4"
      },
      "outputs": [],
      "source": [
        "def add(x,y):\n",
        "  return x + y"
      ]
    },
    {
      "cell_type": "code",
      "source": [
        "add(3,2)"
      ],
      "metadata": {
        "colab": {
          "base_uri": "https://localhost:8080/"
        },
        "id": "SVGsTlilAGwk",
        "outputId": "d2c17bf7-d953-413e-cf71-1228adad3d9c"
      },
      "execution_count": 2,
      "outputs": [
        {
          "output_type": "execute_result",
          "data": {
            "text/plain": [
              "5"
            ]
          },
          "metadata": {},
          "execution_count": 2
        }
      ]
    }
  ]
}